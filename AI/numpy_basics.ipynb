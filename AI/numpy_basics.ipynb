{
  "nbformat": 4,
  "nbformat_minor": 0,
  "metadata": {
    "colab": {
      "name": "numpy_basics.ipynb",
      "provenance": [],
      "authorship_tag": "ABX9TyNUP/wp3pbABw7ARBnje4vR",
      "include_colab_link": true
    },
    "kernelspec": {
      "name": "python3",
      "display_name": "Python 3"
    }
  },
  "cells": [
    {
      "cell_type": "markdown",
      "metadata": {
        "id": "view-in-github",
        "colab_type": "text"
      },
      "source": [
        "<a href=\"https://colab.research.google.com/github/Jeevesh8/sem-6/blob/main/AI/numpy_basics.ipynb\" target=\"_parent\"><img src=\"https://colab.research.google.com/assets/colab-badge.svg\" alt=\"Open In Colab\"/></a>"
      ]
    },
    {
      "cell_type": "markdown",
      "metadata": {
        "id": "7QG96OMJ9kHT"
      },
      "source": [
        "## Importing Numpy"
      ]
    },
    {
      "cell_type": "code",
      "metadata": {
        "id": "12r-JQbQ9XCL"
      },
      "source": [
        "import numpy as np"
      ],
      "execution_count": 2,
      "outputs": []
    },
    {
      "cell_type": "markdown",
      "metadata": {
        "id": "f9UF22NF9nyi"
      },
      "source": [
        "## Creating a Numpy Array"
      ]
    },
    {
      "cell_type": "code",
      "metadata": {
        "colab": {
          "base_uri": "https://localhost:8080/"
        },
        "id": "_-wl-QW59r7B",
        "outputId": "c04ed3aa-ee86-4fae-9b75-6002872ae892"
      },
      "source": [
        "x = np.array([[1,2,3],[4,5,6],[7,8,9]])\n",
        "print(x, type(x))"
      ],
      "execution_count": 3,
      "outputs": [
        {
          "output_type": "stream",
          "text": [
            "[[1 2 3]\n",
            " [4 5 6]\n",
            " [7 8 9]] <class 'numpy.ndarray'>\n"
          ],
          "name": "stdout"
        }
      ]
    },
    {
      "cell_type": "markdown",
      "metadata": {
        "id": "NYfwgw6N98JT"
      },
      "source": [
        "## Various Ways of indexing"
      ]
    },
    {
      "cell_type": "code",
      "metadata": {
        "colab": {
          "base_uri": "https://localhost:8080/"
        },
        "id": "s2Kl5vrj9wRU",
        "outputId": "79460989-5748-4774-9f1e-b7b061db1d36"
      },
      "source": [
        "x[1,2]"
      ],
      "execution_count": null,
      "outputs": [
        {
          "output_type": "execute_result",
          "data": {
            "text/plain": [
              "6"
            ]
          },
          "metadata": {
            "tags": []
          },
          "execution_count": 6
        }
      ]
    },
    {
      "cell_type": "code",
      "metadata": {
        "colab": {
          "base_uri": "https://localhost:8080/"
        },
        "id": "LB5KOoiS-AqL",
        "outputId": "a4c905fd-d168-4b97-8785-2adb8317e848"
      },
      "source": [
        "x[:,1]"
      ],
      "execution_count": null,
      "outputs": [
        {
          "output_type": "execute_result",
          "data": {
            "text/plain": [
              "array([2, 5, 8])"
            ]
          },
          "metadata": {
            "tags": []
          },
          "execution_count": 7
        }
      ]
    },
    {
      "cell_type": "code",
      "metadata": {
        "colab": {
          "base_uri": "https://localhost:8080/"
        },
        "id": "9zt8R-fv-CPF",
        "outputId": "ed677d57-fc32-45ca-bf64-424be3969d67"
      },
      "source": [
        "x[:,2]"
      ],
      "execution_count": null,
      "outputs": [
        {
          "output_type": "execute_result",
          "data": {
            "text/plain": [
              "array([3, 6, 9])"
            ]
          },
          "metadata": {
            "tags": []
          },
          "execution_count": 8
        }
      ]
    },
    {
      "cell_type": "code",
      "metadata": {
        "colab": {
          "base_uri": "https://localhost:8080/"
        },
        "id": "i7xcT9I6-DwA",
        "outputId": "ade2536a-9b34-40e6-ac73-0de7326dd4ec"
      },
      "source": [
        "x[:-1, :-1]"
      ],
      "execution_count": null,
      "outputs": [
        {
          "output_type": "execute_result",
          "data": {
            "text/plain": [
              "array([[1, 2],\n",
              "       [4, 5]])"
            ]
          },
          "metadata": {
            "tags": []
          },
          "execution_count": 9
        }
      ]
    },
    {
      "cell_type": "code",
      "metadata": {
        "colab": {
          "base_uri": "https://localhost:8080/"
        },
        "id": "hzZnQ3uK-Gw1",
        "outputId": "667b7db8-16a8-4517-e285-bd94f2943bbb"
      },
      "source": [
        "x[...]"
      ],
      "execution_count": null,
      "outputs": [
        {
          "output_type": "execute_result",
          "data": {
            "text/plain": [
              "array([[1, 2, 3],\n",
              "       [4, 5, 6],\n",
              "       [7, 8, 9]])"
            ]
          },
          "metadata": {
            "tags": []
          },
          "execution_count": 10
        }
      ]
    },
    {
      "cell_type": "code",
      "metadata": {
        "colab": {
          "base_uri": "https://localhost:8080/"
        },
        "id": "bticv-Qn-JNi",
        "outputId": "93f736f9-43a6-446c-c558-ea61b16c14a1"
      },
      "source": [
        "x[:2,...]"
      ],
      "execution_count": null,
      "outputs": [
        {
          "output_type": "execute_result",
          "data": {
            "text/plain": [
              "array([[1, 2, 3],\n",
              "       [4, 5, 6]])"
            ]
          },
          "metadata": {
            "tags": []
          },
          "execution_count": 12
        }
      ]
    },
    {
      "cell_type": "markdown",
      "metadata": {
        "id": "2hU78EIy-TQt"
      },
      "source": [
        "## Basic Addition"
      ]
    },
    {
      "cell_type": "code",
      "metadata": {
        "colab": {
          "base_uri": "https://localhost:8080/"
        },
        "id": "xe3XnmJJ-NnW",
        "outputId": "6536518f-78a6-45d7-b32d-54d5f04c2170"
      },
      "source": [
        "x+1"
      ],
      "execution_count": null,
      "outputs": [
        {
          "output_type": "execute_result",
          "data": {
            "text/plain": [
              "array([[ 2,  3,  4],\n",
              "       [ 5,  6,  7],\n",
              "       [ 8,  9, 10]])"
            ]
          },
          "metadata": {
            "tags": []
          },
          "execution_count": 13
        }
      ]
    },
    {
      "cell_type": "code",
      "metadata": {
        "colab": {
          "base_uri": "https://localhost:8080/"
        },
        "id": "vb3ed-sh-XpV",
        "outputId": "2257cd14-3c89-4117-9b7e-44260a759e28"
      },
      "source": [
        "x-2"
      ],
      "execution_count": null,
      "outputs": [
        {
          "output_type": "execute_result",
          "data": {
            "text/plain": [
              "array([[-1,  0,  1],\n",
              "       [ 2,  3,  4],\n",
              "       [ 5,  6,  7]])"
            ]
          },
          "metadata": {
            "tags": []
          },
          "execution_count": 14
        }
      ]
    },
    {
      "cell_type": "markdown",
      "metadata": {
        "id": "yCLdmWiD-dbl"
      },
      "source": [
        "## Basic Data Types in Numpy"
      ]
    },
    {
      "cell_type": "code",
      "metadata": {
        "colab": {
          "base_uri": "https://localhost:8080/"
        },
        "id": "lAkUq8_3-a6L",
        "outputId": "a09d5bed-6520-41d5-861f-d0713f9c374e"
      },
      "source": [
        "x.dtype"
      ],
      "execution_count": null,
      "outputs": [
        {
          "output_type": "execute_result",
          "data": {
            "text/plain": [
              "dtype('int64')"
            ]
          },
          "metadata": {
            "tags": []
          },
          "execution_count": 15
        }
      ]
    },
    {
      "cell_type": "code",
      "metadata": {
        "colab": {
          "base_uri": "https://localhost:8080/"
        },
        "id": "UxXUa9ZSBOt6",
        "outputId": "9b545f04-3950-4b30-e672-4953e15c9c1d"
      },
      "source": [
        "np.array(['ramesh', 'suresh']).dtype"
      ],
      "execution_count": null,
      "outputs": [
        {
          "output_type": "execute_result",
          "data": {
            "text/plain": [
              "dtype('<U6')"
            ]
          },
          "metadata": {
            "tags": []
          },
          "execution_count": 16
        }
      ]
    },
    {
      "cell_type": "code",
      "metadata": {
        "colab": {
          "base_uri": "https://localhost:8080/"
        },
        "id": "TmupJ97cDAGv",
        "outputId": "9a390d62-dad8-4605-e4c5-b093ebd16277"
      },
      "source": [
        "np.array(['ramu', 'rami']).dtype"
      ],
      "execution_count": null,
      "outputs": [
        {
          "output_type": "execute_result",
          "data": {
            "text/plain": [
              "dtype('<U4')"
            ]
          },
          "metadata": {
            "tags": []
          },
          "execution_count": 18
        }
      ]
    },
    {
      "cell_type": "markdown",
      "metadata": {
        "id": "Cb3gH3n8B41q"
      },
      "source": [
        "## Symbols for Various DataTypes"
      ]
    },
    {
      "cell_type": "markdown",
      "metadata": {
        "id": "Dao0TuDgBxxE"
      },
      "source": [
        "`i` - integer\n",
        "\n",
        "`b` - boolean\n",
        "\n",
        "`u` - unsigned integer\n",
        "\n",
        "`f` - float\n",
        "\n",
        "`c` - complex float\n",
        "\n",
        "`m` - timedelta\n",
        "\n",
        "`M` - datetime\n",
        "\n",
        "`O` - object\n",
        "\n",
        "`S` - string\n",
        "\n",
        "`U` - unicode string\n",
        "\n",
        "`V` - fixed chunk of memory for other type ( void )\n",
        "\n",
        "`>` means big-endian and `<` means little-endian.\n",
        "\n",
        "And the number indicates the number of bytes. The 6 in '<U6' is the number of bytes occupied by each element of the array."
      ]
    },
    {
      "cell_type": "markdown",
      "metadata": {
        "id": "Zh4JTVb2DeEo"
      },
      "source": [
        "## Creating a DataType Object"
      ]
    },
    {
      "cell_type": "code",
      "metadata": {
        "id": "_7jJs679Bo6Z"
      },
      "source": [
        "dt = np.dtype('<c8')"
      ],
      "execution_count": null,
      "outputs": []
    },
    {
      "cell_type": "code",
      "metadata": {
        "colab": {
          "base_uri": "https://localhost:8080/"
        },
        "id": "p0Xwu4isFroe",
        "outputId": "88dca648-e428-43c5-8e12-a306b7fdfb9c"
      },
      "source": [
        "np.array([2+3j, 5+6j], dtype=dt)"
      ],
      "execution_count": null,
      "outputs": [
        {
          "output_type": "execute_result",
          "data": {
            "text/plain": [
              "array([2.+3.j, 5.+6.j], dtype=complex64)"
            ]
          },
          "metadata": {
            "tags": []
          },
          "execution_count": 32
        }
      ]
    },
    {
      "cell_type": "code",
      "metadata": {
        "colab": {
          "base_uri": "https://localhost:8080/"
        },
        "id": "f9lVbXQmF7ZQ",
        "outputId": "ccf1fc1a-6a99-4f7c-bd19-f82eea4dd237"
      },
      "source": [
        "dt.itemsize"
      ],
      "execution_count": null,
      "outputs": [
        {
          "output_type": "execute_result",
          "data": {
            "text/plain": [
              "8"
            ]
          },
          "metadata": {
            "tags": []
          },
          "execution_count": 33
        }
      ]
    },
    {
      "cell_type": "markdown",
      "metadata": {
        "id": "28OVH6AMGoRr"
      },
      "source": [
        "### Structured Data Type"
      ]
    },
    {
      "cell_type": "markdown",
      "metadata": {
        "id": "90lEttunGvC3"
      },
      "source": [
        "It is used to make numpy arrays over elements belonging to a structure. Each element must be of fixed size. "
      ]
    },
    {
      "cell_type": "code",
      "metadata": {
        "id": "z9ca37NPHdLs"
      },
      "source": [
        "class lattitude:\n",
        "    def __init__(self, lattitude):\n",
        "        assert lattitude<=90, \"Lattittude must be less than or equal to 90 degrees.\"\n",
        "        assert lattitude>=-90, \"Lattittude must be greater than or equal to -90 degrees.\"\n",
        "        self.lat = lattitude\n",
        "\n",
        "class longitude:\n",
        "    def __init__(self, longitude):\n",
        "        assert longitude<=180, \"Longitude must be less than or equal to 180 degrees.\"\n",
        "        assert longitude>=-180, \"Longitude must be greater than or equal to -180 degrees.\"\n",
        "        self.lon = longitude"
      ],
      "execution_count": null,
      "outputs": []
    },
    {
      "cell_type": "code",
      "metadata": {
        "id": "7r6tP-CjGdLS"
      },
      "source": [
        "dt = np.dtype(lattitude, longitude)"
      ],
      "execution_count": null,
      "outputs": []
    },
    {
      "cell_type": "code",
      "metadata": {
        "colab": {
          "base_uri": "https://localhost:8080/"
        },
        "id": "ccH951oeIlhe",
        "outputId": "966adf49-28d5-4ec2-b540-56edfc6936c4"
      },
      "source": [
        "dt.itemsize"
      ],
      "execution_count": null,
      "outputs": [
        {
          "output_type": "execute_result",
          "data": {
            "text/plain": [
              "8"
            ]
          },
          "metadata": {
            "tags": []
          },
          "execution_count": 47
        }
      ]
    },
    {
      "cell_type": "code",
      "metadata": {
        "id": "tSjS8F3aInG0"
      },
      "source": [
        "y = np.array([(lattitude(0),longitude(0)), \n",
        "              (lattitude(-6.3572375290155), longitude(-63.572375290155))], dtype=dt)"
      ],
      "execution_count": null,
      "outputs": []
    },
    {
      "cell_type": "code",
      "metadata": {
        "colab": {
          "base_uri": "https://localhost:8080/"
        },
        "id": "Z2NUwYxxI3g_",
        "outputId": "4a9654e6-dc64-44a5-9e43-9d7f82ad90f2"
      },
      "source": [
        "y[1][0].lat"
      ],
      "execution_count": null,
      "outputs": [
        {
          "output_type": "execute_result",
          "data": {
            "text/plain": [
              "-6.3572375290155"
            ]
          },
          "metadata": {
            "tags": []
          },
          "execution_count": 55
        }
      ]
    },
    {
      "cell_type": "markdown",
      "metadata": {
        "id": "lea91pNDLRa6"
      },
      "source": [
        "## 10 Methods in Numpy"
      ]
    },
    {
      "cell_type": "code",
      "metadata": {
        "id": "R20TUyYrKezF",
        "colab": {
          "base_uri": "https://localhost:8080/"
        },
        "outputId": "736822ad-1633-455c-a559-0ed9287b926a"
      },
      "source": [
        "#sorting an array\n",
        "np.sort(-x, axis=1)"
      ],
      "execution_count": 8,
      "outputs": [
        {
          "output_type": "execute_result",
          "data": {
            "text/plain": [
              "array([[-3, -2, -1],\n",
              "       [-6, -5, -4],\n",
              "       [-9, -8, -7]])"
            ]
          },
          "metadata": {
            "tags": []
          },
          "execution_count": 8
        }
      ]
    },
    {
      "cell_type": "code",
      "metadata": {
        "colab": {
          "base_uri": "https://localhost:8080/"
        },
        "id": "x-eDc48pbUph",
        "outputId": "02fcaf64-ed1b-4b79-8d29-4e0946a5be30"
      },
      "source": [
        "#Finding max\n",
        "print(np.argmax(x), np.max(x), np.argmax(x, axis=1))"
      ],
      "execution_count": 9,
      "outputs": [
        {
          "output_type": "stream",
          "text": [
            "8 9 [2 2 2]\n"
          ],
          "name": "stdout"
        }
      ]
    },
    {
      "cell_type": "code",
      "metadata": {
        "colab": {
          "base_uri": "https://localhost:8080/"
        },
        "id": "uqQ0MQL3c55A",
        "outputId": "9b82fbfb-5902-49a1-88ba-d6c00c8fe335"
      },
      "source": [
        "#Dot product\n",
        "np.dot(x[0], x[1])"
      ],
      "execution_count": 10,
      "outputs": [
        {
          "output_type": "execute_result",
          "data": {
            "text/plain": [
              "32"
            ]
          },
          "metadata": {
            "tags": []
          },
          "execution_count": 10
        }
      ]
    },
    {
      "cell_type": "code",
      "metadata": {
        "colab": {
          "base_uri": "https://localhost:8080/"
        },
        "id": "Q4Lx_vDHdTQw",
        "outputId": "78135c6d-65c3-4cfd-f19f-2b79946d5889"
      },
      "source": [
        "#Outer Product\n",
        "np.outer(x[0], x[1])"
      ],
      "execution_count": 11,
      "outputs": [
        {
          "output_type": "execute_result",
          "data": {
            "text/plain": [
              "array([[ 4,  5,  6],\n",
              "       [ 8, 10, 12],\n",
              "       [12, 15, 18]])"
            ]
          },
          "metadata": {
            "tags": []
          },
          "execution_count": 11
        }
      ]
    },
    {
      "cell_type": "code",
      "metadata": {
        "colab": {
          "base_uri": "https://localhost:8080/"
        },
        "id": "vszyPrkZdjzv",
        "outputId": "d85c4c6e-f7da-416e-cb3f-19cac5ef02b8"
      },
      "source": [
        "#Determinant\n",
        "np.linalg.det(x)"
      ],
      "execution_count": 12,
      "outputs": [
        {
          "output_type": "execute_result",
          "data": {
            "text/plain": [
              "0.0"
            ]
          },
          "metadata": {
            "tags": []
          },
          "execution_count": 12
        }
      ]
    },
    {
      "cell_type": "code",
      "metadata": {
        "colab": {
          "base_uri": "https://localhost:8080/"
        },
        "id": "K6VLbfMNduqw",
        "outputId": "93427765-873f-4c3c-803c-871d47729c94"
      },
      "source": [
        "#Covariance Matrix\n",
        "np.cov(x)"
      ],
      "execution_count": 13,
      "outputs": [
        {
          "output_type": "execute_result",
          "data": {
            "text/plain": [
              "array([[1., 1., 1.],\n",
              "       [1., 1., 1.],\n",
              "       [1., 1., 1.]])"
            ]
          },
          "metadata": {
            "tags": []
          },
          "execution_count": 13
        }
      ]
    },
    {
      "cell_type": "code",
      "metadata": {
        "colab": {
          "base_uri": "https://localhost:8080/"
        },
        "id": "ZvYgTOd4em_E",
        "outputId": "b9bb28dc-6f82-48ee-b0e1-b789d6b7ad2f"
      },
      "source": [
        "#Solving Ax=B\n",
        "x = np.array([[3,4,5], [7,4,2], [9,7,1]])\n",
        "np.linalg.solve(np.transpose(x), x[0])"
      ],
      "execution_count": 20,
      "outputs": [
        {
          "output_type": "execute_result",
          "data": {
            "text/plain": [
              "array([ 1.0000000e+00, -5.6213824e-17, -1.4053456e-17])"
            ]
          },
          "metadata": {
            "tags": []
          },
          "execution_count": 20
        }
      ]
    },
    {
      "cell_type": "code",
      "metadata": {
        "colab": {
          "base_uri": "https://localhost:8080/"
        },
        "id": "-B0my8JYe-Ot",
        "outputId": "ecaf85e7-349e-4fb7-da58-8bec05852e23"
      },
      "source": [
        "#Finding which positions have value between 2 and 6\n",
        "np.logical_and(x>2, x<6)"
      ],
      "execution_count": 22,
      "outputs": [
        {
          "output_type": "execute_result",
          "data": {
            "text/plain": [
              "array([[ True,  True,  True],\n",
              "       [False,  True, False],\n",
              "       [False, False, False]])"
            ]
          },
          "metadata": {
            "tags": []
          },
          "execution_count": 22
        }
      ]
    },
    {
      "cell_type": "code",
      "metadata": {
        "colab": {
          "base_uri": "https://localhost:8080/"
        },
        "id": "IZoBN4v5w9ue",
        "outputId": "87f611be-271e-48fe-a18c-cd51acccd5ae"
      },
      "source": [
        "#Getting EigenValues of a matrix\n",
        "np.linalg.eig(x)"
      ],
      "execution_count": 23,
      "outputs": [
        {
          "output_type": "execute_result",
          "data": {
            "text/plain": [
              "(array([13.4794913 , -4.02249696, -1.45699434]),\n",
              " array([[ 0.52137272,  0.67350283,  0.59068622],\n",
              "        [ 0.52665752, -0.43949436, -0.79899766],\n",
              "        [ 0.67141816, -0.59433883,  0.11266111]]))"
            ]
          },
          "metadata": {
            "tags": []
          },
          "execution_count": 23
        }
      ]
    },
    {
      "cell_type": "code",
      "metadata": {
        "colab": {
          "base_uri": "https://localhost:8080/"
        },
        "id": "V3Ld696K0TCT",
        "outputId": "1cf81c59-da74-4956-9b83-3c9b42e91f74"
      },
      "source": [
        "#upper and lower triangular matrices\n",
        "np.triu(x), np.tril(x)"
      ],
      "execution_count": 32,
      "outputs": [
        {
          "output_type": "execute_result",
          "data": {
            "text/plain": [
              "(array([[3, 4, 5],\n",
              "        [0, 4, 2],\n",
              "        [0, 0, 1]]), array([[3, 0, 0],\n",
              "        [7, 4, 0],\n",
              "        [9, 7, 1]]))"
            ]
          },
          "metadata": {
            "tags": []
          },
          "execution_count": 32
        }
      ]
    },
    {
      "cell_type": "code",
      "metadata": {
        "colab": {
          "base_uri": "https://localhost:8080/"
        },
        "id": "4mQQYW8Txebc",
        "outputId": "f3e40e70-b9ae-402c-baa0-3830f1120358"
      },
      "source": [
        "#Cholesky Decomposition\n",
        "np.linalg.cholesky(np.triu(x)*np.tril(x))"
      ],
      "execution_count": 33,
      "outputs": [
        {
          "output_type": "execute_result",
          "data": {
            "text/plain": [
              "array([[3., 0., 0.],\n",
              "       [0., 4., 0.],\n",
              "       [0., 0., 1.]])"
            ]
          },
          "metadata": {
            "tags": []
          },
          "execution_count": 33
        }
      ]
    },
    {
      "cell_type": "markdown",
      "metadata": {
        "id": "9OsBWGfY0oL-"
      },
      "source": [
        "## Finding Unique Elements"
      ]
    },
    {
      "cell_type": "code",
      "metadata": {
        "colab": {
          "base_uri": "https://localhost:8080/"
        },
        "id": "SM01cZMI0hX3",
        "outputId": "3cb6cc3f-7f91-4512-e9a7-987fc5aff5f6"
      },
      "source": [
        "np.unique(x)"
      ],
      "execution_count": 34,
      "outputs": [
        {
          "output_type": "execute_result",
          "data": {
            "text/plain": [
              "array([1, 2, 3, 4, 5, 7, 9])"
            ]
          },
          "metadata": {
            "tags": []
          },
          "execution_count": 34
        }
      ]
    }
  ]
}