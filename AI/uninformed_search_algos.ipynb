{
  "nbformat": 4,
  "nbformat_minor": 0,
  "metadata": {
    "colab": {
      "name": "uninformed_search_algos.ipynb",
      "provenance": [],
      "collapsed_sections": [],
      "authorship_tag": "ABX9TyO4OPce8gIClp1ENXT+eGkZ",
      "include_colab_link": true
    },
    "kernelspec": {
      "name": "python3",
      "display_name": "Python 3"
    }
  },
  "cells": [
    {
      "cell_type": "markdown",
      "metadata": {
        "id": "view-in-github",
        "colab_type": "text"
      },
      "source": [
        "<a href=\"https://colab.research.google.com/github/Jeevesh8/sem-6/blob/main/AI/uninformed_search_algos.ipynb\" target=\"_parent\"><img src=\"https://colab.research.google.com/assets/colab-badge.svg\" alt=\"Open In Colab\"/></a>"
      ]
    },
    {
      "cell_type": "markdown",
      "metadata": {
        "id": "oG-5r2RS3Z3N"
      },
      "source": [
        "## DFS"
      ]
    },
    {
      "cell_type": "code",
      "metadata": {
        "id": "LTaiUmzl3Pzq"
      },
      "source": [
        "visited = []\n",
        "def dfs_search(init_state, actions, apply, goal):\n",
        "    \"\"\"\n",
        "    init_state: the initial state.\n",
        "    actions: a function that takes a state as input \n",
        "             and outputs a list of possible actions and their costs\n",
        "    apply: a function that takes as input (state, action) and returns next state\n",
        "    goal: the goal state\n",
        "\n",
        "    Returns: the cost of the min. cost solution\n",
        "    \"\"\"\n",
        "    total_cost = float('inf') \n",
        "    visited += [init_state]\n",
        "\n",
        "    if init_state==goal:\n",
        "        return 0\n",
        "    for action, cost in actions(init_state):\n",
        "        next_state = apply(init_state, action)\n",
        "        if next_state not in visited:\n",
        "            total_cost = min(total_cost, \n",
        "                             cost+dfs_search(next_state, actions, apply, goal))\n",
        "            \n",
        "    return total_cost"
      ],
      "execution_count": null,
      "outputs": []
    },
    {
      "cell_type": "markdown",
      "metadata": {
        "id": "8K_H54sw6s49"
      },
      "source": [
        "## BFS"
      ]
    },
    {
      "cell_type": "code",
      "metadata": {
        "id": "zSVg8Z-s6qu3"
      },
      "source": [
        "total_cost = float('inf') \n",
        "queue = []\n",
        "visited = []\n",
        "    \n",
        "def bfs_search(init_state, actions, apply, goal):\n",
        "    \"\"\"\n",
        "    init_state: the initial state.\n",
        "    actions: a function that takes a state as input \n",
        "             and outputs a list of possible actions and their costs\n",
        "    apply: a function that takes as input (state, action) and returns next state\n",
        "    goal: the goal state\n",
        "\n",
        "    Returns: the cost of the min. cost solution\n",
        "    \"\"\"\n",
        "    queue += [(init_state, 0)]\n",
        "    visited += [init_state]\n",
        "\n",
        "    while queue != []:\n",
        "        \n",
        "        state, cost = queue[0]\n",
        "        queue = queue[1:]\n",
        "\n",
        "        if state==goal:\n",
        "            total_cost = min(total_cost, cost)\n",
        "        else:\n",
        "            for action, cost_a in actions(state):\n",
        "                next_state = apply(state, action)\n",
        "                if next_state not in visited:\n",
        "                    queue.append((state, cost+cost_a))\n",
        "                    visited.append(next_state)\n",
        "\n",
        "    return total_cost"
      ],
      "execution_count": null,
      "outputs": []
    },
    {
      "cell_type": "markdown",
      "metadata": {
        "id": "8x2Tg_mKE5u4"
      },
      "source": [
        "## Depth Limited Search"
      ]
    },
    {
      "cell_type": "code",
      "metadata": {
        "id": "R4STnx9hE8pG"
      },
      "source": [
        "visited = []\n",
        "max_depth = 6\n",
        "\n",
        "def dls_search(init_state, actions, apply, goal, depth=0):\n",
        "    \"\"\"\n",
        "    init_state: the initial state.\n",
        "    actions: a function that takes a state as input \n",
        "             and outputs a list of possible actions and their costs\n",
        "    apply: a function that takes as input (state, action) and returns next state\n",
        "    goal: the goal state\n",
        "\n",
        "    Returns: the cost of the min. cost solution\n",
        "    \"\"\"\n",
        "    \n",
        "    total_cost = float('inf') \n",
        "    \n",
        "    if depth>max_depth:\n",
        "        return total_cost\n",
        "\n",
        "    visited += [init_state]\n",
        "    \n",
        "    if init_state==goal:\n",
        "        return 0\n",
        "    for action, cost in actions(init_state):\n",
        "        next_state = apply(init_state, action)\n",
        "        if next_state not in visited:\n",
        "            total_cost = min(total_cost, \n",
        "                             cost+dfs_search(next_state, actions, apply, goal, depth+1))\n",
        "            \n",
        "    return total_cost"
      ],
      "execution_count": null,
      "outputs": []
    }
  ]
}